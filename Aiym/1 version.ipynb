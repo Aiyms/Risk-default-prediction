{
 "cells": [
  {
   "cell_type": "markdown",
   "metadata": {},
   "source": [
    "http://bazhenov.me/blog/2012/07/21/classification-performance-evaluation.html"
   ]
  },
  {
   "cell_type": "code",
   "execution_count": 76,
   "metadata": {},
   "outputs": [],
   "source": [
    "import pandas as pd\n",
    "import seaborn as sns\n",
    "from sklearn.model_selection import train_test_split\n",
    "import matplotlib.pyplot as plt\n",
    "data = pd.read_excel('/Users/aiymsergazina/Downloads/Risk-default-prediction-master/Zhandos/FPD60_Data_for_prediction.xlsx',na_values = ['nan'])"
   ]
  },
  {
   "cell_type": "code",
   "execution_count": 77,
   "metadata": {
    "scrolled": true
   },
   "outputs": [
    {
     "data": {
      "text/html": [
       "<div>\n",
       "<style scoped>\n",
       "    .dataframe tbody tr th:only-of-type {\n",
       "        vertical-align: middle;\n",
       "    }\n",
       "\n",
       "    .dataframe tbody tr th {\n",
       "        vertical-align: top;\n",
       "    }\n",
       "\n",
       "    .dataframe thead th {\n",
       "        text-align: right;\n",
       "    }\n",
       "</style>\n",
       "<table border=\"1\" class=\"dataframe\">\n",
       "  <thead>\n",
       "    <tr style=\"text-align: right;\">\n",
       "      <th></th>\n",
       "      <th>AMT_CREDIT_TOTAL</th>\n",
       "      <th>CLIENT_DATE_BIRTH</th>\n",
       "      <th>NAME_INCOME_TYPE</th>\n",
       "      <th>AMT_INCOME_MAIN</th>\n",
       "      <th>MOBILE_PHONE</th>\n",
       "      <th>GCVP_0</th>\n",
       "      <th>AMT_PAYMENT_AVG</th>\n",
       "      <th>CNT_PAYMENTS</th>\n",
       "      <th>CODE_CLIENT_TYPE</th>\n",
       "      <th>GSPN_HIST</th>\n",
       "      <th>...</th>\n",
       "      <th>FLAG_RPC</th>\n",
       "      <th>NAME_PRODUCT_TYPE</th>\n",
       "      <th>GOODS_CATEGORY</th>\n",
       "      <th>CNT_GOODS</th>\n",
       "      <th>TOTAL_GOODS_PRICE</th>\n",
       "      <th>FLAG_HAS_EXTRA_LIMIT</th>\n",
       "      <th>AMT_EXTRA_LIMIT</th>\n",
       "      <th>FLAG_USED_EXT_LIMIT</th>\n",
       "      <th>AMT_WITHDRAWAL_CASH</th>\n",
       "      <th>TARGET</th>\n",
       "    </tr>\n",
       "  </thead>\n",
       "  <tbody>\n",
       "    <tr>\n",
       "      <td>0</td>\n",
       "      <td>138569</td>\n",
       "      <td>1968-07-30</td>\n",
       "      <td>коммерч. сотрудник</td>\n",
       "      <td>230000</td>\n",
       "      <td>7.078303e+09</td>\n",
       "      <td>1.0</td>\n",
       "      <td>0.00</td>\n",
       "      <td>0.0</td>\n",
       "      <td>NaN</td>\n",
       "      <td>50</td>\n",
       "      <td>...</td>\n",
       "      <td>1</td>\n",
       "      <td>Revolving loans</td>\n",
       "      <td>Tablets / Communicators</td>\n",
       "      <td>1.0</td>\n",
       "      <td>139990.0</td>\n",
       "      <td>0.0</td>\n",
       "      <td>0.0</td>\n",
       "      <td>0.0</td>\n",
       "      <td>NaN</td>\n",
       "      <td>1</td>\n",
       "    </tr>\n",
       "    <tr>\n",
       "      <td>1</td>\n",
       "      <td>199980</td>\n",
       "      <td>1985-03-24</td>\n",
       "      <td>коммерч. сотрудник</td>\n",
       "      <td>270000</td>\n",
       "      <td>7.074612e+09</td>\n",
       "      <td>NaN</td>\n",
       "      <td>NaN</td>\n",
       "      <td>NaN</td>\n",
       "      <td>Existing</td>\n",
       "      <td>500</td>\n",
       "      <td>...</td>\n",
       "      <td>1</td>\n",
       "      <td>Revolving loans</td>\n",
       "      <td>Audio and video equipment</td>\n",
       "      <td>2.0</td>\n",
       "      <td>199980.0</td>\n",
       "      <td>0.0</td>\n",
       "      <td>0.0</td>\n",
       "      <td>0.0</td>\n",
       "      <td>211800.0</td>\n",
       "      <td>1</td>\n",
       "    </tr>\n",
       "    <tr>\n",
       "      <td>2</td>\n",
       "      <td>384456</td>\n",
       "      <td>1950-10-03</td>\n",
       "      <td>пенсионер</td>\n",
       "      <td>160000</td>\n",
       "      <td>7.753682e+09</td>\n",
       "      <td>NaN</td>\n",
       "      <td>NaN</td>\n",
       "      <td>NaN</td>\n",
       "      <td>Existing</td>\n",
       "      <td>6</td>\n",
       "      <td>...</td>\n",
       "      <td>0</td>\n",
       "      <td>Cash loans</td>\n",
       "      <td>NaN</td>\n",
       "      <td>NaN</td>\n",
       "      <td>NaN</td>\n",
       "      <td>NaN</td>\n",
       "      <td>NaN</td>\n",
       "      <td>NaN</td>\n",
       "      <td>NaN</td>\n",
       "      <td>1</td>\n",
       "    </tr>\n",
       "    <tr>\n",
       "      <td>3</td>\n",
       "      <td>525423</td>\n",
       "      <td>1960-07-13</td>\n",
       "      <td>гос. служащий</td>\n",
       "      <td>200000</td>\n",
       "      <td>7.012881e+09</td>\n",
       "      <td>NaN</td>\n",
       "      <td>NaN</td>\n",
       "      <td>0.0</td>\n",
       "      <td>Existing</td>\n",
       "      <td>63</td>\n",
       "      <td>...</td>\n",
       "      <td>1</td>\n",
       "      <td>Cash loans</td>\n",
       "      <td>NaN</td>\n",
       "      <td>NaN</td>\n",
       "      <td>NaN</td>\n",
       "      <td>NaN</td>\n",
       "      <td>NaN</td>\n",
       "      <td>NaN</td>\n",
       "      <td>NaN</td>\n",
       "      <td>1</td>\n",
       "    </tr>\n",
       "    <tr>\n",
       "      <td>4</td>\n",
       "      <td>100123</td>\n",
       "      <td>1964-06-16</td>\n",
       "      <td>рабочий</td>\n",
       "      <td>90000</td>\n",
       "      <td>7.775792e+09</td>\n",
       "      <td>0.0</td>\n",
       "      <td>2498.32</td>\n",
       "      <td>3.0</td>\n",
       "      <td>Existing</td>\n",
       "      <td>102</td>\n",
       "      <td>...</td>\n",
       "      <td>0</td>\n",
       "      <td>Cash loans</td>\n",
       "      <td>NaN</td>\n",
       "      <td>NaN</td>\n",
       "      <td>NaN</td>\n",
       "      <td>NaN</td>\n",
       "      <td>NaN</td>\n",
       "      <td>NaN</td>\n",
       "      <td>NaN</td>\n",
       "      <td>1</td>\n",
       "    </tr>\n",
       "    <tr>\n",
       "      <td>...</td>\n",
       "      <td>...</td>\n",
       "      <td>...</td>\n",
       "      <td>...</td>\n",
       "      <td>...</td>\n",
       "      <td>...</td>\n",
       "      <td>...</td>\n",
       "      <td>...</td>\n",
       "      <td>...</td>\n",
       "      <td>...</td>\n",
       "      <td>...</td>\n",
       "      <td>...</td>\n",
       "      <td>...</td>\n",
       "      <td>...</td>\n",
       "      <td>...</td>\n",
       "      <td>...</td>\n",
       "      <td>...</td>\n",
       "      <td>...</td>\n",
       "      <td>...</td>\n",
       "      <td>...</td>\n",
       "      <td>...</td>\n",
       "      <td>...</td>\n",
       "    </tr>\n",
       "    <tr>\n",
       "      <td>10074</td>\n",
       "      <td>115990</td>\n",
       "      <td>1980-05-08</td>\n",
       "      <td>коммерч. сотрудник</td>\n",
       "      <td>250000</td>\n",
       "      <td>7.059808e+09</td>\n",
       "      <td>0.0</td>\n",
       "      <td>20082.68</td>\n",
       "      <td>6.0</td>\n",
       "      <td>Existing</td>\n",
       "      <td>32</td>\n",
       "      <td>...</td>\n",
       "      <td>0</td>\n",
       "      <td>Consumer loans</td>\n",
       "      <td>Household appliances</td>\n",
       "      <td>1.0</td>\n",
       "      <td>115990.0</td>\n",
       "      <td>NaN</td>\n",
       "      <td>NaN</td>\n",
       "      <td>NaN</td>\n",
       "      <td>NaN</td>\n",
       "      <td>0</td>\n",
       "    </tr>\n",
       "    <tr>\n",
       "      <td>10075</td>\n",
       "      <td>199990</td>\n",
       "      <td>1994-06-14</td>\n",
       "      <td>коммерч. сотрудник</td>\n",
       "      <td>400000</td>\n",
       "      <td>7.058339e+09</td>\n",
       "      <td>0.0</td>\n",
       "      <td>4250.00</td>\n",
       "      <td>6.0</td>\n",
       "      <td>Existing</td>\n",
       "      <td>35</td>\n",
       "      <td>...</td>\n",
       "      <td>1</td>\n",
       "      <td>Consumer loans</td>\n",
       "      <td>Office supplies</td>\n",
       "      <td>1.0</td>\n",
       "      <td>199990.0</td>\n",
       "      <td>NaN</td>\n",
       "      <td>NaN</td>\n",
       "      <td>NaN</td>\n",
       "      <td>NaN</td>\n",
       "      <td>0</td>\n",
       "    </tr>\n",
       "    <tr>\n",
       "      <td>10076</td>\n",
       "      <td>227929</td>\n",
       "      <td>1985-04-01</td>\n",
       "      <td>гос. служащий</td>\n",
       "      <td>345554</td>\n",
       "      <td>7.027183e+09</td>\n",
       "      <td>0.0</td>\n",
       "      <td>3572.50</td>\n",
       "      <td>3573.0</td>\n",
       "      <td>New</td>\n",
       "      <td>41</td>\n",
       "      <td>...</td>\n",
       "      <td>0</td>\n",
       "      <td>Consumer loans</td>\n",
       "      <td>Household appliances</td>\n",
       "      <td>1.0</td>\n",
       "      <td>227929.0</td>\n",
       "      <td>NaN</td>\n",
       "      <td>NaN</td>\n",
       "      <td>NaN</td>\n",
       "      <td>NaN</td>\n",
       "      <td>0</td>\n",
       "    </tr>\n",
       "    <tr>\n",
       "      <td>10077</td>\n",
       "      <td>309532</td>\n",
       "      <td>1977-11-23</td>\n",
       "      <td>гос. служащий</td>\n",
       "      <td>98000</td>\n",
       "      <td>7.029024e+09</td>\n",
       "      <td>0.0</td>\n",
       "      <td>7908.17</td>\n",
       "      <td>8.0</td>\n",
       "      <td>New</td>\n",
       "      <td>60</td>\n",
       "      <td>...</td>\n",
       "      <td>0</td>\n",
       "      <td>Cash loans</td>\n",
       "      <td>NaN</td>\n",
       "      <td>NaN</td>\n",
       "      <td>NaN</td>\n",
       "      <td>NaN</td>\n",
       "      <td>NaN</td>\n",
       "      <td>NaN</td>\n",
       "      <td>NaN</td>\n",
       "      <td>0</td>\n",
       "    </tr>\n",
       "    <tr>\n",
       "      <td>10078</td>\n",
       "      <td>249890</td>\n",
       "      <td>1975-02-17</td>\n",
       "      <td>гос. служащий</td>\n",
       "      <td>300000</td>\n",
       "      <td>7.082392e+09</td>\n",
       "      <td>NaN</td>\n",
       "      <td>NaN</td>\n",
       "      <td>NaN</td>\n",
       "      <td>Existing</td>\n",
       "      <td>52</td>\n",
       "      <td>...</td>\n",
       "      <td>0</td>\n",
       "      <td>Consumer loans</td>\n",
       "      <td>Tablets / Communicators</td>\n",
       "      <td>1.0</td>\n",
       "      <td>249890.0</td>\n",
       "      <td>NaN</td>\n",
       "      <td>NaN</td>\n",
       "      <td>NaN</td>\n",
       "      <td>NaN</td>\n",
       "      <td>0</td>\n",
       "    </tr>\n",
       "  </tbody>\n",
       "</table>\n",
       "<p>10079 rows × 23 columns</p>\n",
       "</div>"
      ],
      "text/plain": [
       "       AMT_CREDIT_TOTAL CLIENT_DATE_BIRTH    NAME_INCOME_TYPE  \\\n",
       "0                138569        1968-07-30  коммерч. сотрудник   \n",
       "1                199980        1985-03-24  коммерч. сотрудник   \n",
       "2                384456        1950-10-03           пенсионер   \n",
       "3                525423        1960-07-13       гос. служащий   \n",
       "4                100123        1964-06-16             рабочий   \n",
       "...                 ...               ...                 ...   \n",
       "10074            115990        1980-05-08  коммерч. сотрудник   \n",
       "10075            199990        1994-06-14  коммерч. сотрудник   \n",
       "10076            227929        1985-04-01       гос. служащий   \n",
       "10077            309532        1977-11-23       гос. служащий   \n",
       "10078            249890        1975-02-17       гос. служащий   \n",
       "\n",
       "       AMT_INCOME_MAIN  MOBILE_PHONE  GCVP_0  AMT_PAYMENT_AVG  CNT_PAYMENTS  \\\n",
       "0               230000  7.078303e+09     1.0             0.00           0.0   \n",
       "1               270000  7.074612e+09     NaN              NaN           NaN   \n",
       "2               160000  7.753682e+09     NaN              NaN           NaN   \n",
       "3               200000  7.012881e+09     NaN              NaN           0.0   \n",
       "4                90000  7.775792e+09     0.0          2498.32           3.0   \n",
       "...                ...           ...     ...              ...           ...   \n",
       "10074           250000  7.059808e+09     0.0         20082.68           6.0   \n",
       "10075           400000  7.058339e+09     0.0          4250.00           6.0   \n",
       "10076           345554  7.027183e+09     0.0          3572.50        3573.0   \n",
       "10077            98000  7.029024e+09     0.0          7908.17           8.0   \n",
       "10078           300000  7.082392e+09     NaN              NaN           NaN   \n",
       "\n",
       "      CODE_CLIENT_TYPE GSPN_HIST  ...  FLAG_RPC  NAME_PRODUCT_TYPE  \\\n",
       "0                  NaN        50  ...         1    Revolving loans   \n",
       "1             Existing       500  ...         1    Revolving loans   \n",
       "2             Existing         6  ...         0         Cash loans   \n",
       "3             Existing        63  ...         1         Cash loans   \n",
       "4             Existing       102  ...         0         Cash loans   \n",
       "...                ...       ...  ...       ...                ...   \n",
       "10074         Existing        32  ...         0     Consumer loans   \n",
       "10075         Existing        35  ...         1     Consumer loans   \n",
       "10076              New        41  ...         0     Consumer loans   \n",
       "10077              New        60  ...         0         Cash loans   \n",
       "10078         Existing        52  ...         0     Consumer loans   \n",
       "\n",
       "                  GOODS_CATEGORY  CNT_GOODS TOTAL_GOODS_PRICE  \\\n",
       "0        Tablets / Communicators        1.0          139990.0   \n",
       "1      Audio and video equipment        2.0          199980.0   \n",
       "2                            NaN        NaN               NaN   \n",
       "3                            NaN        NaN               NaN   \n",
       "4                            NaN        NaN               NaN   \n",
       "...                          ...        ...               ...   \n",
       "10074       Household appliances        1.0          115990.0   \n",
       "10075            Office supplies        1.0          199990.0   \n",
       "10076       Household appliances        1.0          227929.0   \n",
       "10077                        NaN        NaN               NaN   \n",
       "10078    Tablets / Communicators        1.0          249890.0   \n",
       "\n",
       "      FLAG_HAS_EXTRA_LIMIT  AMT_EXTRA_LIMIT  FLAG_USED_EXT_LIMIT  \\\n",
       "0                      0.0              0.0                  0.0   \n",
       "1                      0.0              0.0                  0.0   \n",
       "2                      NaN              NaN                  NaN   \n",
       "3                      NaN              NaN                  NaN   \n",
       "4                      NaN              NaN                  NaN   \n",
       "...                    ...              ...                  ...   \n",
       "10074                  NaN              NaN                  NaN   \n",
       "10075                  NaN              NaN                  NaN   \n",
       "10076                  NaN              NaN                  NaN   \n",
       "10077                  NaN              NaN                  NaN   \n",
       "10078                  NaN              NaN                  NaN   \n",
       "\n",
       "       AMT_WITHDRAWAL_CASH  TARGET  \n",
       "0                      NaN       1  \n",
       "1                 211800.0       1  \n",
       "2                      NaN       1  \n",
       "3                      NaN       1  \n",
       "4                      NaN       1  \n",
       "...                    ...     ...  \n",
       "10074                  NaN       0  \n",
       "10075                  NaN       0  \n",
       "10076                  NaN       0  \n",
       "10077                  NaN       0  \n",
       "10078                  NaN       0  \n",
       "\n",
       "[10079 rows x 23 columns]"
      ]
     },
     "execution_count": 77,
     "metadata": {},
     "output_type": "execute_result"
    }
   ],
   "source": [
    "data"
   ]
  },
  {
   "cell_type": "code",
   "execution_count": 78,
   "metadata": {
    "scrolled": true
   },
   "outputs": [
    {
     "name": "stdout",
     "output_type": "stream",
     "text": [
      "<class 'pandas.core.frame.DataFrame'>\n",
      "RangeIndex: 10079 entries, 0 to 10078\n",
      "Data columns (total 23 columns):\n",
      "AMT_CREDIT_TOTAL        10079 non-null int64\n",
      "CLIENT_DATE_BIRTH       10079 non-null datetime64[ns]\n",
      "NAME_INCOME_TYPE        10079 non-null object\n",
      "AMT_INCOME_MAIN         10079 non-null int64\n",
      "MOBILE_PHONE            9959 non-null float64\n",
      "GCVP_0                  8088 non-null float64\n",
      "AMT_PAYMENT_AVG         8088 non-null float64\n",
      "CNT_PAYMENTS            8101 non-null float64\n",
      "CODE_CLIENT_TYPE        10078 non-null object\n",
      "GSPN_HIST               10079 non-null object\n",
      "GSPN_NOW                10079 non-null int64\n",
      "FLAG_EXCLUDED_WC        10079 non-null int64\n",
      "FLAG_WC                 10079 non-null int64\n",
      "FLAG_RPC                10079 non-null int64\n",
      "NAME_PRODUCT_TYPE       10079 non-null object\n",
      "GOODS_CATEGORY          7479 non-null object\n",
      "CNT_GOODS               7479 non-null float64\n",
      "TOTAL_GOODS_PRICE       7479 non-null float64\n",
      "FLAG_HAS_EXTRA_LIMIT    212 non-null float64\n",
      "AMT_EXTRA_LIMIT         212 non-null float64\n",
      "FLAG_USED_EXT_LIMIT     212 non-null float64\n",
      "AMT_WITHDRAWAL_CASH     112 non-null float64\n",
      "TARGET                  10079 non-null int64\n",
      "dtypes: datetime64[ns](1), float64(10), int64(7), object(5)\n",
      "memory usage: 1.8+ MB\n"
     ]
    }
   ],
   "source": [
    "data.info()"
   ]
  },
  {
   "cell_type": "code",
   "execution_count": 79,
   "metadata": {
    "scrolled": true
   },
   "outputs": [
    {
     "data": {
      "text/plain": [
       "AMT_CREDIT_TOTAL           0\n",
       "CLIENT_DATE_BIRTH          0\n",
       "NAME_INCOME_TYPE           0\n",
       "AMT_INCOME_MAIN            0\n",
       "MOBILE_PHONE             120\n",
       "GCVP_0                  1991\n",
       "AMT_PAYMENT_AVG         1991\n",
       "CNT_PAYMENTS            1978\n",
       "CODE_CLIENT_TYPE           1\n",
       "GSPN_HIST                  0\n",
       "GSPN_NOW                   0\n",
       "FLAG_EXCLUDED_WC           0\n",
       "FLAG_WC                    0\n",
       "FLAG_RPC                   0\n",
       "NAME_PRODUCT_TYPE          0\n",
       "GOODS_CATEGORY          2600\n",
       "CNT_GOODS               2600\n",
       "TOTAL_GOODS_PRICE       2600\n",
       "FLAG_HAS_EXTRA_LIMIT    9867\n",
       "AMT_EXTRA_LIMIT         9867\n",
       "FLAG_USED_EXT_LIMIT     9867\n",
       "AMT_WITHDRAWAL_CASH     9967\n",
       "TARGET                     0\n",
       "dtype: int64"
      ]
     },
     "execution_count": 79,
     "metadata": {},
     "output_type": "execute_result"
    }
   ],
   "source": [
    "data.isna().sum()"
   ]
  },
  {
   "cell_type": "code",
   "execution_count": 80,
   "metadata": {},
   "outputs": [],
   "source": [
    "Y = data[\"TARGET\"]\n",
    "X = pd.DataFrame(zip(data.CNT_GOODS,\n",
    "                     data.CODE_CLIENT_TYPE, \n",
    "                     data.AMT_CREDIT_TOTAL, \n",
    "                     data.AMT_INCOME_MAIN,\n",
    "                     data.AMT_PAYMENT_AVG, \n",
    "                     data.NAME_INCOME_TYPE,  \n",
    "                     data.NAME_PRODUCT_TYPE,  \n",
    "                     data.GOODS_CATEGORY ))"
   ]
  },
  {
   "cell_type": "code",
   "execution_count": 81,
   "metadata": {},
   "outputs": [
    {
     "data": {
      "text/plain": [
       "0    8612\n",
       "1    1467\n",
       "Name: TARGET, dtype: int64"
      ]
     },
     "execution_count": 81,
     "metadata": {},
     "output_type": "execute_result"
    }
   ],
   "source": [
    "Y.value_counts() # 17% "
   ]
  },
  {
   "cell_type": "code",
   "execution_count": 82,
   "metadata": {
    "scrolled": true
   },
   "outputs": [],
   "source": [
    "X.columns = [\"CNT_GOODS\",\n",
    "             \"CODE_CLIENT_TYPE\",\n",
    "             \"AMT_CREDIT_TOTAL\",\n",
    "             \"AMT_INCOME_MAIN\",\n",
    "             \"AMT_PAYMENT_AV\",\n",
    "             \"NAME_INCOME_TYPE\",\n",
    "             \"NAME_PRODUCT_TYPE\",\n",
    "             \"GOODS_CATEGORY\"]"
   ]
  },
  {
   "cell_type": "code",
   "execution_count": 83,
   "metadata": {},
   "outputs": [
    {
     "data": {
      "text/plain": [
       "CNT_GOODS            2600\n",
       "CODE_CLIENT_TYPE        1\n",
       "AMT_CREDIT_TOTAL        0\n",
       "AMT_INCOME_MAIN         0\n",
       "AMT_PAYMENT_AV       1991\n",
       "NAME_INCOME_TYPE        0\n",
       "NAME_PRODUCT_TYPE       0\n",
       "GOODS_CATEGORY       2600\n",
       "dtype: int64"
      ]
     },
     "execution_count": 83,
     "metadata": {},
     "output_type": "execute_result"
    }
   ],
   "source": [
    "X.isna().sum()"
   ]
  },
  {
   "cell_type": "code",
   "execution_count": 84,
   "metadata": {},
   "outputs": [],
   "source": [
    "X.AMT_PAYMENT_AV = X.AMT_PAYMENT_AV.median()"
   ]
  },
  {
   "cell_type": "code",
   "execution_count": 85,
   "metadata": {},
   "outputs": [
    {
     "data": {
      "text/html": [
       "<div>\n",
       "<style scoped>\n",
       "    .dataframe tbody tr th:only-of-type {\n",
       "        vertical-align: middle;\n",
       "    }\n",
       "\n",
       "    .dataframe tbody tr th {\n",
       "        vertical-align: top;\n",
       "    }\n",
       "\n",
       "    .dataframe thead th {\n",
       "        text-align: right;\n",
       "    }\n",
       "</style>\n",
       "<table border=\"1\" class=\"dataframe\">\n",
       "  <thead>\n",
       "    <tr style=\"text-align: right;\">\n",
       "      <th></th>\n",
       "      <th>CNT_GOODS</th>\n",
       "      <th>CODE_CLIENT_TYPE</th>\n",
       "      <th>AMT_CREDIT_TOTAL</th>\n",
       "      <th>AMT_INCOME_MAIN</th>\n",
       "      <th>AMT_PAYMENT_AV</th>\n",
       "      <th>NAME_INCOME_TYPE</th>\n",
       "      <th>NAME_PRODUCT_TYPE</th>\n",
       "      <th>GOODS_CATEGORY</th>\n",
       "    </tr>\n",
       "  </thead>\n",
       "  <tbody>\n",
       "    <tr>\n",
       "      <td>0</td>\n",
       "      <td>1.0</td>\n",
       "      <td>NaN</td>\n",
       "      <td>138569</td>\n",
       "      <td>230000</td>\n",
       "      <td>12044.78</td>\n",
       "      <td>коммерч. сотрудник</td>\n",
       "      <td>Revolving loans</td>\n",
       "      <td>Tablets / Communicators</td>\n",
       "    </tr>\n",
       "    <tr>\n",
       "      <td>1</td>\n",
       "      <td>2.0</td>\n",
       "      <td>1.0</td>\n",
       "      <td>199980</td>\n",
       "      <td>270000</td>\n",
       "      <td>12044.78</td>\n",
       "      <td>коммерч. сотрудник</td>\n",
       "      <td>Revolving loans</td>\n",
       "      <td>Audio and video equipment</td>\n",
       "    </tr>\n",
       "    <tr>\n",
       "      <td>2</td>\n",
       "      <td>NaN</td>\n",
       "      <td>1.0</td>\n",
       "      <td>384456</td>\n",
       "      <td>160000</td>\n",
       "      <td>12044.78</td>\n",
       "      <td>пенсионер</td>\n",
       "      <td>Cash loans</td>\n",
       "      <td>NaN</td>\n",
       "    </tr>\n",
       "    <tr>\n",
       "      <td>3</td>\n",
       "      <td>NaN</td>\n",
       "      <td>1.0</td>\n",
       "      <td>525423</td>\n",
       "      <td>200000</td>\n",
       "      <td>12044.78</td>\n",
       "      <td>гос. служащий</td>\n",
       "      <td>Cash loans</td>\n",
       "      <td>NaN</td>\n",
       "    </tr>\n",
       "    <tr>\n",
       "      <td>4</td>\n",
       "      <td>NaN</td>\n",
       "      <td>1.0</td>\n",
       "      <td>100123</td>\n",
       "      <td>90000</td>\n",
       "      <td>12044.78</td>\n",
       "      <td>рабочий</td>\n",
       "      <td>Cash loans</td>\n",
       "      <td>NaN</td>\n",
       "    </tr>\n",
       "    <tr>\n",
       "      <td>...</td>\n",
       "      <td>...</td>\n",
       "      <td>...</td>\n",
       "      <td>...</td>\n",
       "      <td>...</td>\n",
       "      <td>...</td>\n",
       "      <td>...</td>\n",
       "      <td>...</td>\n",
       "      <td>...</td>\n",
       "    </tr>\n",
       "    <tr>\n",
       "      <td>10074</td>\n",
       "      <td>1.0</td>\n",
       "      <td>1.0</td>\n",
       "      <td>115990</td>\n",
       "      <td>250000</td>\n",
       "      <td>12044.78</td>\n",
       "      <td>коммерч. сотрудник</td>\n",
       "      <td>Consumer loans</td>\n",
       "      <td>Household appliances</td>\n",
       "    </tr>\n",
       "    <tr>\n",
       "      <td>10075</td>\n",
       "      <td>1.0</td>\n",
       "      <td>1.0</td>\n",
       "      <td>199990</td>\n",
       "      <td>400000</td>\n",
       "      <td>12044.78</td>\n",
       "      <td>коммерч. сотрудник</td>\n",
       "      <td>Consumer loans</td>\n",
       "      <td>Office supplies</td>\n",
       "    </tr>\n",
       "    <tr>\n",
       "      <td>10076</td>\n",
       "      <td>1.0</td>\n",
       "      <td>0.0</td>\n",
       "      <td>227929</td>\n",
       "      <td>345554</td>\n",
       "      <td>12044.78</td>\n",
       "      <td>гос. служащий</td>\n",
       "      <td>Consumer loans</td>\n",
       "      <td>Household appliances</td>\n",
       "    </tr>\n",
       "    <tr>\n",
       "      <td>10077</td>\n",
       "      <td>NaN</td>\n",
       "      <td>0.0</td>\n",
       "      <td>309532</td>\n",
       "      <td>98000</td>\n",
       "      <td>12044.78</td>\n",
       "      <td>гос. служащий</td>\n",
       "      <td>Cash loans</td>\n",
       "      <td>NaN</td>\n",
       "    </tr>\n",
       "    <tr>\n",
       "      <td>10078</td>\n",
       "      <td>1.0</td>\n",
       "      <td>1.0</td>\n",
       "      <td>249890</td>\n",
       "      <td>300000</td>\n",
       "      <td>12044.78</td>\n",
       "      <td>гос. служащий</td>\n",
       "      <td>Consumer loans</td>\n",
       "      <td>Tablets / Communicators</td>\n",
       "    </tr>\n",
       "  </tbody>\n",
       "</table>\n",
       "<p>10079 rows × 8 columns</p>\n",
       "</div>"
      ],
      "text/plain": [
       "       CNT_GOODS  CODE_CLIENT_TYPE  AMT_CREDIT_TOTAL  AMT_INCOME_MAIN  \\\n",
       "0            1.0               NaN            138569           230000   \n",
       "1            2.0               1.0            199980           270000   \n",
       "2            NaN               1.0            384456           160000   \n",
       "3            NaN               1.0            525423           200000   \n",
       "4            NaN               1.0            100123            90000   \n",
       "...          ...               ...               ...              ...   \n",
       "10074        1.0               1.0            115990           250000   \n",
       "10075        1.0               1.0            199990           400000   \n",
       "10076        1.0               0.0            227929           345554   \n",
       "10077        NaN               0.0            309532            98000   \n",
       "10078        1.0               1.0            249890           300000   \n",
       "\n",
       "       AMT_PAYMENT_AV    NAME_INCOME_TYPE NAME_PRODUCT_TYPE  \\\n",
       "0            12044.78  коммерч. сотрудник   Revolving loans   \n",
       "1            12044.78  коммерч. сотрудник   Revolving loans   \n",
       "2            12044.78           пенсионер        Cash loans   \n",
       "3            12044.78       гос. служащий        Cash loans   \n",
       "4            12044.78             рабочий        Cash loans   \n",
       "...               ...                 ...               ...   \n",
       "10074        12044.78  коммерч. сотрудник    Consumer loans   \n",
       "10075        12044.78  коммерч. сотрудник    Consumer loans   \n",
       "10076        12044.78       гос. служащий    Consumer loans   \n",
       "10077        12044.78       гос. служащий        Cash loans   \n",
       "10078        12044.78       гос. служащий    Consumer loans   \n",
       "\n",
       "                  GOODS_CATEGORY  \n",
       "0        Tablets / Communicators  \n",
       "1      Audio and video equipment  \n",
       "2                            NaN  \n",
       "3                            NaN  \n",
       "4                            NaN  \n",
       "...                          ...  \n",
       "10074       Household appliances  \n",
       "10075            Office supplies  \n",
       "10076       Household appliances  \n",
       "10077                        NaN  \n",
       "10078    Tablets / Communicators  \n",
       "\n",
       "[10079 rows x 8 columns]"
      ]
     },
     "execution_count": 85,
     "metadata": {},
     "output_type": "execute_result"
    }
   ],
   "source": [
    "d = {'Existing': 1, 'New': 0}\n",
    "X = X.replace({\"CODE_CLIENT_TYPE\": d})\n",
    "X"
   ]
  },
  {
   "cell_type": "code",
   "execution_count": 86,
   "metadata": {},
   "outputs": [],
   "source": [
    "di = {'Consumer loans': 1, 'Cash loans': 2, 'Revolving loans': 3}\n",
    "X = X.replace({\"NAME_PRODUCT_TYPE\": di})"
   ]
  },
  {
   "cell_type": "code",
   "execution_count": 87,
   "metadata": {},
   "outputs": [],
   "source": [
    "X1 = X.drop(columns=[\"NAME_INCOME_TYPE\",\"GOODS_CATEGORY\"])"
   ]
  },
  {
   "cell_type": "code",
   "execution_count": 88,
   "metadata": {},
   "outputs": [
    {
     "data": {
      "text/html": [
       "<div>\n",
       "<style scoped>\n",
       "    .dataframe tbody tr th:only-of-type {\n",
       "        vertical-align: middle;\n",
       "    }\n",
       "\n",
       "    .dataframe tbody tr th {\n",
       "        vertical-align: top;\n",
       "    }\n",
       "\n",
       "    .dataframe thead th {\n",
       "        text-align: right;\n",
       "    }\n",
       "</style>\n",
       "<table border=\"1\" class=\"dataframe\">\n",
       "  <thead>\n",
       "    <tr style=\"text-align: right;\">\n",
       "      <th></th>\n",
       "      <th>CNT_GOODS</th>\n",
       "      <th>CODE_CLIENT_TYPE</th>\n",
       "      <th>AMT_CREDIT_TOTAL</th>\n",
       "      <th>AMT_INCOME_MAIN</th>\n",
       "      <th>AMT_PAYMENT_AV</th>\n",
       "      <th>NAME_PRODUCT_TYPE</th>\n",
       "    </tr>\n",
       "  </thead>\n",
       "  <tbody>\n",
       "    <tr>\n",
       "      <td>0</td>\n",
       "      <td>1.0</td>\n",
       "      <td>0.0</td>\n",
       "      <td>138569</td>\n",
       "      <td>230000</td>\n",
       "      <td>12044.78</td>\n",
       "      <td>3</td>\n",
       "    </tr>\n",
       "    <tr>\n",
       "      <td>1</td>\n",
       "      <td>2.0</td>\n",
       "      <td>1.0</td>\n",
       "      <td>199980</td>\n",
       "      <td>270000</td>\n",
       "      <td>12044.78</td>\n",
       "      <td>3</td>\n",
       "    </tr>\n",
       "    <tr>\n",
       "      <td>2</td>\n",
       "      <td>0.0</td>\n",
       "      <td>1.0</td>\n",
       "      <td>384456</td>\n",
       "      <td>160000</td>\n",
       "      <td>12044.78</td>\n",
       "      <td>2</td>\n",
       "    </tr>\n",
       "    <tr>\n",
       "      <td>3</td>\n",
       "      <td>0.0</td>\n",
       "      <td>1.0</td>\n",
       "      <td>525423</td>\n",
       "      <td>200000</td>\n",
       "      <td>12044.78</td>\n",
       "      <td>2</td>\n",
       "    </tr>\n",
       "    <tr>\n",
       "      <td>4</td>\n",
       "      <td>0.0</td>\n",
       "      <td>1.0</td>\n",
       "      <td>100123</td>\n",
       "      <td>90000</td>\n",
       "      <td>12044.78</td>\n",
       "      <td>2</td>\n",
       "    </tr>\n",
       "    <tr>\n",
       "      <td>...</td>\n",
       "      <td>...</td>\n",
       "      <td>...</td>\n",
       "      <td>...</td>\n",
       "      <td>...</td>\n",
       "      <td>...</td>\n",
       "      <td>...</td>\n",
       "    </tr>\n",
       "    <tr>\n",
       "      <td>10074</td>\n",
       "      <td>1.0</td>\n",
       "      <td>1.0</td>\n",
       "      <td>115990</td>\n",
       "      <td>250000</td>\n",
       "      <td>12044.78</td>\n",
       "      <td>1</td>\n",
       "    </tr>\n",
       "    <tr>\n",
       "      <td>10075</td>\n",
       "      <td>1.0</td>\n",
       "      <td>1.0</td>\n",
       "      <td>199990</td>\n",
       "      <td>400000</td>\n",
       "      <td>12044.78</td>\n",
       "      <td>1</td>\n",
       "    </tr>\n",
       "    <tr>\n",
       "      <td>10076</td>\n",
       "      <td>1.0</td>\n",
       "      <td>0.0</td>\n",
       "      <td>227929</td>\n",
       "      <td>345554</td>\n",
       "      <td>12044.78</td>\n",
       "      <td>1</td>\n",
       "    </tr>\n",
       "    <tr>\n",
       "      <td>10077</td>\n",
       "      <td>0.0</td>\n",
       "      <td>0.0</td>\n",
       "      <td>309532</td>\n",
       "      <td>98000</td>\n",
       "      <td>12044.78</td>\n",
       "      <td>2</td>\n",
       "    </tr>\n",
       "    <tr>\n",
       "      <td>10078</td>\n",
       "      <td>1.0</td>\n",
       "      <td>1.0</td>\n",
       "      <td>249890</td>\n",
       "      <td>300000</td>\n",
       "      <td>12044.78</td>\n",
       "      <td>1</td>\n",
       "    </tr>\n",
       "  </tbody>\n",
       "</table>\n",
       "<p>10079 rows × 6 columns</p>\n",
       "</div>"
      ],
      "text/plain": [
       "       CNT_GOODS  CODE_CLIENT_TYPE  AMT_CREDIT_TOTAL  AMT_INCOME_MAIN  \\\n",
       "0            1.0               0.0            138569           230000   \n",
       "1            2.0               1.0            199980           270000   \n",
       "2            0.0               1.0            384456           160000   \n",
       "3            0.0               1.0            525423           200000   \n",
       "4            0.0               1.0            100123            90000   \n",
       "...          ...               ...               ...              ...   \n",
       "10074        1.0               1.0            115990           250000   \n",
       "10075        1.0               1.0            199990           400000   \n",
       "10076        1.0               0.0            227929           345554   \n",
       "10077        0.0               0.0            309532            98000   \n",
       "10078        1.0               1.0            249890           300000   \n",
       "\n",
       "       AMT_PAYMENT_AV  NAME_PRODUCT_TYPE  \n",
       "0            12044.78                  3  \n",
       "1            12044.78                  3  \n",
       "2            12044.78                  2  \n",
       "3            12044.78                  2  \n",
       "4            12044.78                  2  \n",
       "...               ...                ...  \n",
       "10074        12044.78                  1  \n",
       "10075        12044.78                  1  \n",
       "10076        12044.78                  1  \n",
       "10077        12044.78                  2  \n",
       "10078        12044.78                  1  \n",
       "\n",
       "[10079 rows x 6 columns]"
      ]
     },
     "execution_count": 88,
     "metadata": {},
     "output_type": "execute_result"
    }
   ],
   "source": [
    "X1 = X1.fillna(0) \n",
    "X1"
   ]
  },
  {
   "cell_type": "code",
   "execution_count": 89,
   "metadata": {},
   "outputs": [],
   "source": [
    "X1_train, X1_test, Y_train, Y_test = train_test_split(X1, Y, test_size = 0.33, random_state = 5)"
   ]
  },
  {
   "cell_type": "code",
   "execution_count": 90,
   "metadata": {},
   "outputs": [
    {
     "name": "stdout",
     "output_type": "stream",
     "text": [
      "(6752, 6)\n",
      "(3327, 6)\n",
      "(6752,)\n",
      "(3327,)\n"
     ]
    }
   ],
   "source": [
    "print(X1_train.shape)\n",
    "print(X1_test.shape)\n",
    "print(Y_train.shape)\n",
    "print(Y_test.shape)"
   ]
  },
  {
   "cell_type": "markdown",
   "metadata": {},
   "source": [
    "*Применение алгоритмов*"
   ]
  },
  {
   "cell_type": "markdown",
   "metadata": {},
   "source": [
    "## Logistic Regression"
   ]
  },
  {
   "cell_type": "code",
   "execution_count": 94,
   "metadata": {},
   "outputs": [],
   "source": [
    "from sklearn.linear_model import LogisticRegression\n",
    "from sklearn import metrics"
   ]
  },
  {
   "cell_type": "code",
   "execution_count": 95,
   "metadata": {},
   "outputs": [],
   "source": [
    "l = LogisticRegression()"
   ]
  },
  {
   "cell_type": "code",
   "execution_count": 96,
   "metadata": {},
   "outputs": [
    {
     "name": "stderr",
     "output_type": "stream",
     "text": [
      "/opt/anaconda3/lib/python3.7/site-packages/sklearn/linear_model/logistic.py:432: FutureWarning: Default solver will be changed to 'lbfgs' in 0.22. Specify a solver to silence this warning.\n",
      "  FutureWarning)\n"
     ]
    },
    {
     "data": {
      "text/plain": [
       "LogisticRegression(C=1.0, class_weight=None, dual=False, fit_intercept=True,\n",
       "                   intercept_scaling=1, l1_ratio=None, max_iter=100,\n",
       "                   multi_class='warn', n_jobs=None, penalty='l2',\n",
       "                   random_state=None, solver='warn', tol=0.0001, verbose=0,\n",
       "                   warm_start=False)"
      ]
     },
     "execution_count": 96,
     "metadata": {},
     "output_type": "execute_result"
    }
   ],
   "source": [
    "l.fit(X1_train, Y_train)"
   ]
  },
  {
   "cell_type": "code",
   "execution_count": 97,
   "metadata": {},
   "outputs": [],
   "source": [
    "Y_predict = l.predict(X1_test)"
   ]
  },
  {
   "cell_type": "code",
   "execution_count": 98,
   "metadata": {},
   "outputs": [
    {
     "name": "stdout",
     "output_type": "stream",
     "text": [
      "0.8512173128944995\n"
     ]
    }
   ],
   "source": [
    "score = l.score(X1_test, Y_test)\n",
    "print(score)"
   ]
  },
  {
   "cell_type": "code",
   "execution_count": 99,
   "metadata": {},
   "outputs": [
    {
     "data": {
      "text/plain": [
       "0.8512173128944995"
      ]
     },
     "execution_count": 99,
     "metadata": {},
     "output_type": "execute_result"
    }
   ],
   "source": [
    "from sklearn import metrics\n",
    "metrics.accuracy_score(Y_test, Y_predict)"
   ]
  },
  {
   "cell_type": "code",
   "execution_count": 100,
   "metadata": {},
   "outputs": [
    {
     "name": "stdout",
     "output_type": "stream",
     "text": [
      "Confusion Matrix :\n",
      "[[2832    0]\n",
      " [ 495    0]]\n",
      "Accuracy Score :\n",
      "Report : \n",
      "              precision    recall  f1-score   support\n",
      "\n",
      "           0       0.85      1.00      0.92      2832\n",
      "           1       0.00      0.00      0.00       495\n",
      "\n",
      "    accuracy                           0.85      3327\n",
      "   macro avg       0.43      0.50      0.46      3327\n",
      "weighted avg       0.72      0.85      0.78      3327\n",
      "\n"
     ]
    },
    {
     "name": "stderr",
     "output_type": "stream",
     "text": [
      "/opt/anaconda3/lib/python3.7/site-packages/sklearn/metrics/classification.py:1437: UndefinedMetricWarning: Precision and F-score are ill-defined and being set to 0.0 in labels with no predicted samples.\n",
      "  'precision', 'predicted', average, warn_for)\n"
     ]
    }
   ],
   "source": [
    "from sklearn.metrics import confusion_matrix \n",
    "from sklearn.metrics import accuracy_score \n",
    "from sklearn.metrics import classification_report \n",
    "results = confusion_matrix(Y_test, Y_predict) \n",
    "print('Confusion Matrix :')\n",
    "print(results)\n",
    "print('Accuracy Score :')\n",
    "accuracy_score(Y_test, Y_predict) \n",
    "print('Report : ')\n",
    "print(classification_report(Y_test, Y_predict))"
   ]
  },
  {
   "cell_type": "code",
   "execution_count": 101,
   "metadata": {},
   "outputs": [
    {
     "name": "stdout",
     "output_type": "stream",
     "text": [
      "Mean Absolute Error: 0.14878268710550044\n",
      "Mean Squared Error: 0.14878268710550044\n",
      "Root Mean Squared Error: 0.38572358899281806\n"
     ]
    }
   ],
   "source": [
    "import numpy as np\n",
    "print('Mean Absolute Error:', metrics.mean_absolute_error(Y_test, Y_predict))\n",
    "print('Mean Squared Error:', metrics.mean_squared_error(Y_test, Y_predict))\n",
    "print('Root Mean Squared Error:', np.sqrt(metrics.mean_squared_error(Y_test, Y_predict)))"
   ]
  },
  {
   "cell_type": "markdown",
   "metadata": {},
   "source": [
    "## K Neighbors Classifier"
   ]
  },
  {
   "cell_type": "code",
   "execution_count": 105,
   "metadata": {},
   "outputs": [
    {
     "data": {
      "text/plain": [
       "0.8145476405169823"
      ]
     },
     "execution_count": 105,
     "metadata": {},
     "output_type": "execute_result"
    }
   ],
   "source": [
    "from sklearn.neighbors import KNeighborsClassifier\n",
    "n = KNeighborsClassifier(n_neighbors=3)\n",
    "n.fit(X1_train, Y_train) \n",
    "Y_predict_knn = n.predict(X1_test)\n",
    "metrics.accuracy_score(Y_test, Y_predict_knn)"
   ]
  },
  {
   "cell_type": "code",
   "execution_count": 106,
   "metadata": {},
   "outputs": [
    {
     "name": "stdout",
     "output_type": "stream",
     "text": [
      "Confusion Matrix :\n",
      "[[2832    0]\n",
      " [ 495    0]]\n",
      "Accuracy Score :\n",
      "Report : \n",
      "              precision    recall  f1-score   support\n",
      "\n",
      "           0       0.86      0.94      0.90      2832\n",
      "           1       0.21      0.09      0.13       495\n",
      "\n",
      "    accuracy                           0.81      3327\n",
      "   macro avg       0.54      0.52      0.51      3327\n",
      "weighted avg       0.76      0.81      0.78      3327\n",
      "\n"
     ]
    }
   ],
   "source": [
    "results = confusion_matrix(Y_test, Y_predict) \n",
    "print('Confusion Matrix :')\n",
    "print(results)\n",
    "print('Accuracy Score :')\n",
    "accuracy_score(Y_test, Y_predict) \n",
    "print('Report : ')\n",
    "print(classification_report(Y_test,Y_predict_knn))"
   ]
  },
  {
   "cell_type": "code",
   "execution_count": 107,
   "metadata": {},
   "outputs": [
    {
     "name": "stdout",
     "output_type": "stream",
     "text": [
      "Mean Absolute Error: 0.18545235948301772\n",
      "Mean Squared Error: 0.18545235948301772\n",
      "Root Mean Squared Error: 0.43064179950745346\n"
     ]
    }
   ],
   "source": [
    "print('Mean Absolute Error:', metrics.mean_absolute_error(Y_test, Y_predict_knn))\n",
    "print('Mean Squared Error:', metrics.mean_squared_error(Y_test, Y_predict_knn))\n",
    "print('Root Mean Squared Error:', np.sqrt(metrics.mean_squared_error(Y_test, Y_predict_knn)))"
   ]
  },
  {
   "cell_type": "markdown",
   "metadata": {},
   "source": [
    "## Random Forest Classifier"
   ]
  },
  {
   "cell_type": "code",
   "execution_count": 123,
   "metadata": {},
   "outputs": [],
   "source": [
    "from sklearn.ensemble import RandomForestClassifier\n",
    "import numpy as np\n",
    "regressor = RandomForestClassifier(n_estimators=2000, random_state=0)\n",
    "R = regressor.fit(X1_train, Y_train)\n",
    "Y1_predict = regressor.predict(X1_test)"
   ]
  },
  {
   "cell_type": "code",
   "execution_count": 124,
   "metadata": {},
   "outputs": [
    {
     "name": "stdout",
     "output_type": "stream",
     "text": [
      "Confusion Matrix :\n",
      "[[2679  153]\n",
      " [ 383  112]]\n",
      "Accuracy Score :\n",
      "Report : \n",
      "              precision    recall  f1-score   support\n",
      "\n",
      "           0       0.87      0.95      0.91      2832\n",
      "           1       0.42      0.23      0.29       495\n",
      "\n",
      "    accuracy                           0.84      3327\n",
      "   macro avg       0.65      0.59      0.60      3327\n",
      "weighted avg       0.81      0.84      0.82      3327\n",
      "\n"
     ]
    }
   ],
   "source": [
    "results = confusion_matrix(Y_test, Y1_predict) \n",
    "print('Confusion Matrix :')\n",
    "print(results)\n",
    "print('Accuracy Score :')\n",
    "accuracy_score(Y_test, Y1_predict) \n",
    "print('Report : ')\n",
    "print(classification_report(Y_test, Y1_predict))"
   ]
  },
  {
   "cell_type": "code",
   "execution_count": 125,
   "metadata": {},
   "outputs": [
    {
     "data": {
      "text/plain": [
       "0.8388938984069733"
      ]
     },
     "execution_count": 125,
     "metadata": {},
     "output_type": "execute_result"
    }
   ],
   "source": [
    "metrics.accuracy_score(Y_test, Y1_predict)"
   ]
  },
  {
   "cell_type": "code",
   "execution_count": 126,
   "metadata": {},
   "outputs": [
    {
     "name": "stdout",
     "output_type": "stream",
     "text": [
      "Mean Absolute Error: 0.16110610159302674\n",
      "Mean Squared Error: 0.16110610159302674\n",
      "Root Mean Squared Error: 0.4013802456437371\n"
     ]
    }
   ],
   "source": [
    "print('Mean Absolute Error:', metrics.mean_absolute_error(Y_test, Y1_predict))\n",
    "print('Mean Squared Error:', metrics.mean_squared_error(Y_test, Y1_predict))\n",
    "print('Root Mean Squared Error:', np.sqrt(metrics.mean_squared_error(Y_test, Y1_predict)))"
   ]
  },
  {
   "cell_type": "code",
   "execution_count": 57,
   "metadata": {},
   "outputs": [],
   "source": [
    "import seaborn as sns\n",
    "import matplotlib.pyplot as plt\n",
    "%matplotlib inline"
   ]
  },
  {
   "cell_type": "code",
   "execution_count": 71,
   "metadata": {},
   "outputs": [
    {
     "data": {
      "text/plain": [
       "<matplotlib.axes._subplots.AxesSubplot at 0x1a1c217050>"
      ]
     },
     "execution_count": 71,
     "metadata": {},
     "output_type": "execute_result"
    },
    {
     "data": {
      "image/png": "[encoded data removed]",
      "text/plain": [
       "<Figure size 720x360 with 2 Axes>"
      ]
     },
     "metadata": {
      "needs_background": "light"
     },
     "output_type": "display_data"
    }
   ],
   "source": [
    "plt.figure(figsize=(10,5))\n",
    "sns.heatmap(X1.corr(),annot=True)"
   ]
  },
  {
   "cell_type": "code",
   "execution_count": 117,
   "metadata": {},
   "outputs": [],
   "source": [
    "import seaborn as sns\n",
    "import matplotlib.pyplot as plt"
   ]
  },
  {
   "cell_type": "code",
   "execution_count": 121,
   "metadata": {},
   "outputs": [
    {
     "data": {
      "image/png": "[encoded data removed]",
      "text/plain": [
       "<Figure size 432x288 with 1 Axes>"
      ]
     },
     "metadata": {
      "needs_background": "light"
     },
     "output_type": "display_data"
    }
   ],
   "source": [
    "sns.boxplot(X1['AMT_CREDIT_TOTAL']);\n",
    "plt.show()"
   ]
  },
  {
   "cell_type": "code",
   "execution_count": 122,
   "metadata": {},
   "outputs": [
    {
     "data": {
      "image/png": "[encoded data removed]",
      "text/plain": [
       "<Figure size 432x288 with 1 Axes>"
      ]
     },
     "metadata": {
      "needs_background": "light"
     },
     "output_type": "display_data"
    }
   ],
   "source": [
    "sns.boxplot(X1['AMT_INCOME_MAIN']);\n",
    "plt.show()"
   ]
  },
  {
   "cell_type": "code",
   "execution_count": null,
   "metadata": {},
   "outputs": [],
   "source": []
  }
 ],
 "metadata": {
  "kernelspec": {
   "display_name": "Python 3",
   "language": "python",
   "name": "python3"
  },
  "language_info": {
   "codemirror_mode": {
    "name": "ipython",
    "version": 3
   },
   "file_extension": ".py",
   "mimetype": "text/x-python",
   "name": "python",
   "nbconvert_exporter": "python",
   "pygments_lexer": "ipython3",
   "version": "3.7.4"
  }
 },
 "nbformat": 4,
 "nbformat_minor": 2
}
